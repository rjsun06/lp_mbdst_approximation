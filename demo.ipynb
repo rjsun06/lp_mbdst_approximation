{
 "cells": [
  {
   "cell_type": "code",
   "execution_count": null,
   "metadata": {},
   "outputs": [],
   "source": [
    "import numpy as np\n",
    "from mbdst import *#MBDST_true, MBDST_LP, MBDST1, MBDST2, MBDST3\n",
    "from utils import *\n",
    "from timeit import Timer\n",
    "\n",
    "from visualization import visualize_graph, fix_pos, make_graph\n",
    "\n",
    "# for verbosity control\n",
    "_log = print\n",
    "def set_log(fun):\n",
    "    global _log\n",
    "    _log = fun"
   ]
  },
  {
   "cell_type": "code",
   "execution_count": null,
   "metadata": {},
   "outputs": [],
   "source": [
    "# test a single case\n",
    "def test_single_MBDST(fun,N):\n",
    "    case = gen_case(N)\n",
    "    ret = fun(*case)\n",
    "    return ret\n",
    "test_single_MBDST(MBDST2,15)"
   ]
  },
  {
   "cell_type": "code",
   "execution_count": null,
   "metadata": {},
   "outputs": [],
   "source": [
    "# campare multiple cases to search for weird cases.\n",
    "# when finding a weird case, append manually (the case is \n",
    "# format-ready in the output) to either list in weird_cases.py\n",
    "# (bad manner but works for me)\n",
    "def compare_results(funs,case=gen_case(5),report_degrees=False,report_costs=False):\n",
    "    g,c,b = case\n",
    "    ret = [f(g.copy(), c.copy(), b.copy()) for f in funs]\n",
    "    for _ in (x for x in ret if x is None): \n",
    "    # some alg did not work\n",
    "        return -1,{\n",
    "            'names':[f.__name__ for f in funs],\n",
    "            'x':ret,\n",
    "            'case':(g,c,b)}\n",
    "    if np.logical_or.reduce(np.stack(ret) != ret[0],axis=0).any(): \n",
    "    # some algs did not match\n",
    "        return 1,{\n",
    "                'names':[f.__name__ for f in funs],\n",
    "                'x':ret,\n",
    "                'case':(g,c,b)}\n",
    "    # everything good\n",
    "    return 0,{\n",
    "                'names':[f.__name__ for f in funs],\n",
    "                'x':ret,\n",
    "                'case':(g,c,b)}\n",
    "\n",
    "def report(stat,dic):\n",
    "    g,c,b = dic['case']\n",
    "    x = np.stack([x if x is not None else np.full_like(c,fill_value=0) for x in dic['x'] ])\n",
    "    if stat == 0: # good\n",
    "        return\n",
    "    if stat == 1: # mismatch\n",
    "        _log('got diff')\n",
    "    if stat == -1: \n",
    "        if is_feasible(*dic['case']): # failed on feasible problem\n",
    "            _log('got None BUT FEASIBLE')\n",
    "        else: # failed as desired\n",
    "            _log('got None as expected')\n",
    "            _log('bounds:',b)\n",
    "            return\n",
    "    _log('x:')\n",
    "    _log(x)\n",
    "    _log('costs:')\n",
    "    _log(c@x.T)\n",
    "    _log('d bounds:')\n",
    "    _log(b.astype(float))\n",
    "    _log('degres:')\n",
    "    _log(x@g.T)\n",
    "    _log(dic['case'])\n",
    "    return\n",
    "\n",
    "report(*compare_results((MBDST_LP,MBDST_true,MBDST1,MBDST2,MBDST3),\n",
    "                            gen_case(6)))\n"
   ]
  },
  {
   "cell_type": "code",
   "execution_count": null,
   "metadata": {},
   "outputs": [],
   "source": [
    "# test running time\n",
    "case = gen_case(8,mode='fully') # fully connected case\n",
    "def test():\n",
    "    MBDST1()\n",
    "t = Timer(\"test()\", \"from __main__ import test\")\n",
    "print(t.timeit(10))"
   ]
  },
  {
   "cell_type": "code",
   "execution_count": null,
   "metadata": {},
   "outputs": [],
   "source": [
    "# check single weird case\n",
    "# to retrieve a case saved in weird_cases.py, use mode=\"weird\" or \"bug\", \n",
    "# and N=the number where the case is inthe list.\n",
    "report(*compare_results((MBDST_LP,MBDST_true,MBDST1,MBDST2,MBDST3),\n",
    "                        gen_case(mode='bug',N=0)))\n"
   ]
  },
  {
   "cell_type": "code",
   "execution_count": null,
   "metadata": {},
   "outputs": [],
   "source": [
    "# visualize steps of the algorithm\n",
    "def visualize_step(alg_step):\n",
    "    def wait_for_space():\n",
    "        key = ''\n",
    "        while key != ' ':\n",
    "            key = input(\"Press the spacebar to continue: \")\n",
    "    def fun(G,C,B,pos=None):\n",
    "        nv,ne=G.shape\n",
    "        graph = make_graph(G.copy(),C)\n",
    "        ret,step=alg_step(G,C,B)\n",
    "        if pos is None:pos = fix_pos(graph)\n",
    "        visualize_graph(graph,pos,None,ret,np.ones(nv))\n",
    "        for gev in step():\n",
    "            if gev is None: return None\n",
    "            g,e,v = gev\n",
    "            wait_for_space()\n",
    "            # graph = make_graph(g,C)\n",
    "            visualize_graph(graph,pos,g,ret.astype(bool),v)\n",
    "    return fun\n",
    "\n",
    "visualize_step(MBDST3_step)(*gen_case(mode='bug',N=0))"
   ]
  },
  {
   "cell_type": "code",
   "execution_count": null,
   "metadata": {},
   "outputs": [],
   "source": [
    "# fix node positions to do visualization on the same graph\n",
    "# (bad code design)\n",
    "G,C,B = gen_case(mode='bug',N=0)\n",
    "pos = fix_pos(make_graph(G,C))\n",
    "visualize_step(MBDST3_step)(*gen_case(mode='bug',N=0),pos)\n",
    "visualize_step(MBDST1_step)(*gen_case(mode='bug',N=0),pos)"
   ]
  },
  {
   "cell_type": "code",
   "execution_count": null,
   "metadata": {},
   "outputs": [],
   "source": [
    "# ;)"
   ]
  }
 ],
 "metadata": {
  "language_info": {
   "codemirror_mode": {
    "name": "ipython",
    "version": 3
   },
   "file_extension": ".py",
   "mimetype": "text/x-python",
   "name": "python",
   "nbconvert_exporter": "python",
   "pygments_lexer": "ipython3",
   "version": 3
  }
 },
 "nbformat": 4,
 "nbformat_minor": 2
}
